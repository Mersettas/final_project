{
  "nbformat": 4,
  "nbformat_minor": 0,
  "metadata": {
    "colab": {
      "provenance": [],
      "gpuType": "T4"
    },
    "kernelspec": {
      "name": "python3",
      "display_name": "Python 3"
    },
    "language_info": {
      "name": "python"
    },
    "accelerator": "GPU"
  },
  "cells": [
    {
      "cell_type": "code",
      "source": [
        "import json\n",
        "import os\n",
        "import time\n",
        "\n",
        "from dotenv import load_dotenv\n",
        "from langchain_text_splitters import RecursiveCharacterTextSplitter\n",
        "from langchain_core.vectorstores import InMemoryVectorStore\n",
        "from langchain_huggingface import HuggingFaceEmbeddings\n",
        "import gradio as gr\n",
        "from openai import OpenAI\n",
        "import pandas as pd\n",
        "\n",
        "load_dotenv(dotenv_path='env')\n",
        "\n",
        "MODEL = os.getenv('MODEL', \"gpt-4o-mini\")\n",
        "openai_api_key = os.getenv('API_KEY')\n",
        "openai_api_base = os.getenv('API_BASE', 'https://api.openai.com/v1/')\n",
        "\n",
        "prompts = {\n",
        "    \"assistant_prompt\": \"Вы выступаете в роли опытного гида по путешествиям и музеям. Помогайте пользователю найти и понять интересную информацию о достопримечательностях, экспонатах и местах.\",\n",
        "\n",
        "    \"query_prompt\": '''Вы — полезный консультант по путешествиям и музеям. Вам будет представлен диалог.\n",
        "Найдите в тексте последнего сообщения пользователя основную достопримечательность, экспонат или место, о котором спрашивает пользователь.\n",
        "Верните поисковый запрос, отражающий интерес пользователя (ключевые слова). Если пользователь не уточняет интерес к конкретному объекту, верните краткий обобщённый запрос.\n",
        "Отвечайте кратко по-русски.'''\n",
        "}\n",
        "\n",
        "SYSTEM_PROMPT = prompts[\"assistant_prompt\"]\n",
        "QUERY_PROMPT = prompts[\"query_prompt\"]"
      ],
      "metadata": {
        "id": "ASN-4uZ8iEKG"
      },
      "execution_count": 8,
      "outputs": []
    },
    {
      "cell_type": "code",
      "source": [
        "# Загрузка спаршенных данных для ретривера\n",
        "file_path = \"/china_doc/2024_12_14 China full 02.csv\"\n",
        "data = pd.read_csv(file_path)\n",
        "docs =  data['Clean_Text'].tolist()\n",
        "docs[0]"
      ],
      "metadata": {
        "colab": {
          "base_uri": "https://localhost:8080/",
          "height": 175
        },
        "id": "NmbxCvje6jDa",
        "outputId": "c886a24a-f2b4-45ce-956e-6f62be8f9461"
      },
      "execution_count": 5,
      "outputs": [
        {
          "output_type": "execute_result",
          "data": {
            "text/plain": [
              "'Трудно себе представить более загадочную, своеобразную и притягательную страну, чем Китай. Здесь есть все: горы и равнины, песчаные пляжи и курорты, знаменитые монастыри, археологические раскопки, древние города и альпинистские базы. Это третья по территории страна мира после России и Канады и первая по численности населения. Китаю принадлежит более 3400 островов, крупнейшим из которых является остров Хайнань в Южно-Китайском море. Китай – необыкновенная страна. Наука и техника здесь достигли высокого уровня развития еще несколько тысяч лет назад. Мировой известностью пользовались китайский шелк, керамические и фарфоровые изделия. Но все же особое место среди достижений китайцев принадлежит четырем великим открытиям: изобретению бумаги, книгопечатания, компаса и пороха. А Великая Китайская стена протяженностью 6 тыс. км – это поистине чудо света! Одним из наиболее востребованных китайских турпродуктов на российском рынке сегодня является пляжный отдых на острове Хайнань, но с каждым годом увеличивается доля экскурсионного туризма по территории материкового Китая. Это связано с тем, что российские туристы традиционно отличаются повышенным интересом к истории и культуре страны, в которую они приезжают. Экскурсионные туры, как правило, включают посещение Пекина, древних столиц Лоян и Сиань, Шанхая, Сучжоу, Ханчжоу и других древних городов Поднебесной. Любители шопинга отправляются в Гонконг, Гуанчжоу или на Тайвань. В Макао можно поймать птицу удачи, покрутив рулетку. Понежиться на пляжах едут в Циндао или на Хайнань. Паломники направляются в Лхасу, а желающие поправить здоровье и зарядиться энергией пользуются услугами центров китайской народной медицины, которые имеются во многих городах страны. Среди туристов немало бизнесменов, которые приезжают в Поднебесную на выставки, семинары, симпозиумы и совещания. О возможностях Китая как туристской державы красноречиво говорят цифры официальной статистики. Количество рукотворных и природных достопримечательностей составляет более 3,5 тыс. В стране действует более 11 тыс. турфирм. На сегодняшний день в туриндустрии задействовано около 37 млн человек. Основной капитал турбизнеса страны перевалил за 100 млрд долларов США. По прогнозу Всемирной туристической организации к 2020 г. Китай должен выйти на первое место в мире по приему иностранных туристов и четвертое место по числу выезжающих за границу собственных граждан. По данному прогнозу количество путешественников, посетивших Китай, достигнет 210 млн человек, а валютные поступления от международного туризма составят 58 млрд долларов США – и тогда туриндустрия в Китае действительно станет опорной отраслью народного хозяйства. Когда же лучше ехать в Китай? Огромная территория страны обуславливает большое разнообразие температурных и климатических зон, поэтому время визита нужно выбирать в зависимости от маршрута. Традиционно самыми туристскими сезонами считаются весна и осень. Остров Хайнань является круглогодичным курортом.'"
            ],
            "application/vnd.google.colaboratory.intrinsic+json": {
              "type": "string"
            }
          },
          "metadata": {},
          "execution_count": 5
        }
      ]
    },
    {
      "cell_type": "code",
      "source": [
        "# Создание эмбедингов\n",
        "embeddings = HuggingFaceEmbeddings(model_name=\"sentence-transformers/all-mpnet-base-v2\")\n",
        "text_splitter = RecursiveCharacterTextSplitter(chunk_size=1000, chunk_overlap=150)\n",
        "texts = text_splitter.create_documents(docs)\n",
        "\n",
        "vector_store = InMemoryVectorStore(embeddings)\n",
        "_ = vector_store.add_documents(documents=texts)\n",
        "\n",
        "# Функция для поиска похожих векторов\n",
        "def search_relevant_info(search_query, k = 4):\n",
        "    retrieved_docs = vector_store.similarity_search(search_query, k)\n",
        "    return [x.page_content for x in retrieved_docs]\n",
        "search_relevant_info('Какие города обычно включаются в экскурсионные туры по Китаю?')"
      ],
      "metadata": {
        "colab": {
          "base_uri": "https://localhost:8080/"
        },
        "id": "CA-EsYnI4-_j",
        "outputId": "f3bf1456-7162-4625-eb31-aaa405f09029"
      },
      "execution_count": 6,
      "outputs": [
        {
          "output_type": "stream",
          "name": "stderr",
          "text": [
            "/usr/local/lib/python3.10/dist-packages/huggingface_hub/utils/_auth.py:94: UserWarning: \n",
            "The secret `HF_TOKEN` does not exist in your Colab secrets.\n",
            "To authenticate with the Hugging Face Hub, create a token in your settings tab (https://huggingface.co/settings/tokens), set it as secret in your Google Colab and restart your session.\n",
            "You will be able to reuse this secret in all of your notebooks.\n",
            "Please note that authentication is recommended but still optional to access public models or datasets.\n",
            "  warnings.warn(\n"
          ]
        },
        {
          "output_type": "execute_result",
          "data": {
            "text/plain": [
              "['китайского католицизма в Гуанчжоу является этот собор. Готический двухбашенный храм был построен в 1888 г. Здание возведено из гранита и потому выглядит монументально. Эффектно смотрятся башни, массивные купола и острые арочные верхушки.',\n",
              " 'которой проходят с утра до вечера в течение недели. В Резиденции Норбулинка работает Музей Тибета. Богатая экспозиция включает уникальные книги на тибетском языке, красочные танка, музыкальные инструменты, ритуальную утварь, керамические изделия и работы народных мастеров.',\n",
              " 'Городок Тунли. 18 км от Сучжоу по дороге к озеру Тайху. Небольшой городок Тунли расположен на воде. Он имеет тысячелетнюю историю и когда-то назывался Фуши. Свое современное название получил в эпоху Тан. Через его центр протекает 15 речушек. Здесь проживает около 10 тыс. жителей, и лодки для них являются более необходимым транспортным средством, чем автомобили. Главная достопримечательность города – это мосты, построенные в разные эпохи и отражающие разные архитектурные стили. Всего здесь красуется 49 мостов, соединяющих 7 островов, на которых стоит город. В Тунли действует первый в стране Музей сексуальной культуры, где представлено 4 экспозиции – «Секс в первобытном обществе», «Секс каждый день», «Брак и женщины», «Нетрадиционный секс».',\n",
              " 'В Лояне туристы покупают танскую трехцветную керамику, которую начали изготавливать более 1 тыс. лет назад. В Танскую эпоху преобладали красный, зеленый и желтый цвета – отсюда и название «трехцветная керамика».']"
            ]
          },
          "metadata": {},
          "execution_count": 6
        }
      ]
    },
    {
      "cell_type": "code",
      "source": [
        "# Объект для общения с GPT-4\n",
        "client = OpenAI(\n",
        "    api_key=openai_api_key,\n",
        "    base_url=openai_api_base,\n",
        ")\n",
        "\n",
        "def get_completion(messages, model=MODEL, generation_config={}):\n",
        "    response = client.chat.completions.create(\n",
        "        model=model,\n",
        "        messages=messages,\n",
        "        **generation_config\n",
        "    )\n",
        "    return response.choices[0].message.content\n",
        "\n",
        "# Класс, реализующий диалоговую систему\n",
        "class LLMConversation:\n",
        "    def __init__(self, system_prompt=SYSTEM_PROMPT, messages=None):\n",
        "        self.system_prompt = system_prompt\n",
        "        self.messages = messages if messages else []\n",
        "\n",
        "    def add_message(self, role, content):\n",
        "        self.messages.append({\"role\": role, \"content\": content})\n",
        "\n",
        "    def get_prompt(self, relevant_info=None):\n",
        "        if relevant_info and len(relevant_info) > 0:\n",
        "            info_str = \"Найденная релевантная информация:\\n\" + json.dumps(relevant_info, ensure_ascii=False)\n",
        "            full_system = self.system_prompt + \"\\n\" + info_str\n",
        "        else:\n",
        "            full_system = self.system_prompt\n",
        "        return [{'role': 'system', 'content': full_system}] + self.messages\n",
        "\n",
        "    def get_query(self, model):\n",
        "        system_message = [{'role': 'system', 'content': QUERY_PROMPT}]\n",
        "        user_message = [{'role': 'user', 'content': json.dumps(self.messages, ensure_ascii=False)}]\n",
        "        config = {\n",
        "            \"temperature\": 0.1,\n",
        "            \"max_tokens\": 25,\n",
        "        }\n",
        "        return get_completion(system_message + user_message, model, config)\n",
        "\n",
        "# Функция для обработки запроса пользователя и прокидывание информации в Gradio\n",
        "def handle_user_input(user_message, chat_history, user_data):\n",
        "    if 'conversation_history' not in user_data:\n",
        "        user_data['conversation_history'] = []\n",
        "    conv = LLMConversation(messages=user_data['conversation_history'])\n",
        "    conv.add_message('user', user_message)\n",
        "\n",
        "    query = conv.get_query(MODEL)\n",
        "    relevant_info = search_relevant_info(query)\n",
        "\n",
        "    full_prompt = conv.get_prompt(relevant_info)\n",
        "    assistant_config = {\"temperature\": 0.4, \"max_tokens\": 200}\n",
        "    assistant_answer = get_completion(full_prompt, MODEL, assistant_config)\n",
        "    conv.add_message('assistant', assistant_answer)\n",
        "\n",
        "    user_data['conversation_history'] = conv.messages\n",
        "\n",
        "    return \"\", chat_history + [(user_message, assistant_answer)], user_data, json.dumps(relevant_info, ensure_ascii=False), query"
      ],
      "metadata": {
        "id": "cxlRXyRe6nyR"
      },
      "execution_count": 9,
      "outputs": []
    },
    {
      "cell_type": "code",
      "source": [
        "# Запуск Gradio интерфейса\n",
        "with gr.Blocks(title=MODEL) as app:\n",
        "    user_data = gr.State(value={})\n",
        "    chat_area = gr.Chatbot()\n",
        "    input_area = gr.Textbox(label=\"Ваш запрос\")\n",
        "    with gr.Accordion(\"Информация\", open=False):\n",
        "        search_query_box = gr.Textbox(label=\"Поисковый запрос\", interactive=False, show_copy_button=True)\n",
        "        info_box = gr.Textbox(label=\"Релевантная информация\", interactive=False, show_copy_button=True)\n",
        "\n",
        "    input_area.submit(\n",
        "        handle_user_input,\n",
        "        [input_area, chat_area, user_data],\n",
        "        [input_area, chat_area, user_data, info_box, search_query_box],\n",
        "    )\n",
        "\n",
        "app.launch(debug=True, share=True)"
      ],
      "metadata": {
        "colab": {
          "base_uri": "https://localhost:8080/",
          "height": 680
        },
        "id": "rzCW5qUq7sLb",
        "outputId": "bfad3daf-a9db-4a29-a8fc-0ec66f027c18"
      },
      "execution_count": 10,
      "outputs": [
        {
          "output_type": "stream",
          "name": "stderr",
          "text": [
            "/usr/local/lib/python3.10/dist-packages/gradio/components/chatbot.py:242: UserWarning: You have not specified a value for the `type` parameter. Defaulting to the 'tuples' format for chatbot messages, but this is deprecated and will be removed in a future version of Gradio. Please set type='messages' instead, which uses openai-style dictionaries with 'role' and 'content' keys.\n",
            "  warnings.warn(\n"
          ]
        },
        {
          "output_type": "stream",
          "name": "stdout",
          "text": [
            "Colab notebook detected. This cell will run indefinitely so that you can see errors and logs. To turn off, set debug=False in launch().\n",
            "* Running on public URL: https://f6a1e70d8704009e25.gradio.live\n",
            "\n",
            "This share link expires in 72 hours. For free permanent hosting and GPU upgrades, run `gradio deploy` from the terminal in the working directory to deploy to Hugging Face Spaces (https://huggingface.co/spaces)\n"
          ]
        },
        {
          "output_type": "display_data",
          "data": {
            "text/plain": [
              "<IPython.core.display.HTML object>"
            ],
            "text/html": [
              "<div><iframe src=\"https://f6a1e70d8704009e25.gradio.live\" width=\"100%\" height=\"500\" allow=\"autoplay; camera; microphone; clipboard-read; clipboard-write;\" frameborder=\"0\" allowfullscreen></iframe></div>"
            ]
          },
          "metadata": {}
        },
        {
          "output_type": "stream",
          "name": "stdout",
          "text": [
            "Keyboard interruption in main thread... closing server.\n",
            "Killing tunnel 127.0.0.1:7860 <> https://f6a1e70d8704009e25.gradio.live\n"
          ]
        },
        {
          "output_type": "execute_result",
          "data": {
            "text/plain": []
          },
          "metadata": {},
          "execution_count": 10
        }
      ]
    },
    {
      "cell_type": "code",
      "source": [],
      "metadata": {
        "id": "hAx1qax7CrBZ"
      },
      "execution_count": null,
      "outputs": []
    }
  ]
}